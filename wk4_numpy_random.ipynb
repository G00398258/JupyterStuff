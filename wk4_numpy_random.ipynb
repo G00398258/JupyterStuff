{
 "cells": [
  {
   "cell_type": "markdown",
   "id": "6829a1df-a818-4304-b07a-926a78ebe847",
   "metadata": {},
   "source": [
    "# The Numpy Random Package\n",
    "Examples from the Week 4 videos for Programming for Data Analysis"
   ]
  },
  {
   "cell_type": "markdown",
   "id": "a4aaacce-10c6-4496-8563-9691ba58e3e3",
   "metadata": {},
   "source": [
    "<br>"
   ]
  },
  {
   "cell_type": "code",
   "execution_count": 3,
   "id": "f3c171c6-0d58-48cc-9571-873585a68145",
   "metadata": {},
   "outputs": [],
   "source": [
    "import numpy as np\n",
    "import matplotlib.pyplot as plt"
   ]
  },
  {
   "cell_type": "markdown",
   "id": "5e51aa90-1379-4012-95d0-1828887d9ed6",
   "metadata": {},
   "source": [
    "<br>"
   ]
  },
  {
   "cell_type": "markdown",
   "id": "ef8d5417-f07a-44b2-8a0d-b6596d457bfd",
   "metadata": {},
   "source": [
    "### Simple Random Data - Integers Function\n",
    "***"
   ]
  },
  {
   "cell_type": "code",
   "execution_count": 9,
   "id": "c6611b4f-76cb-4a1e-af85-c4da11c50d32",
   "metadata": {},
   "outputs": [],
   "source": [
    "import numpy as np\n",
    "rng = np.random.default_rng()\n",
    "x = rng.integers(100, size=1000000)"
   ]
  },
  {
   "cell_type": "code",
   "execution_count": 10,
   "id": "18a60148-ccb8-4826-901c-c8dfc7be8728",
   "metadata": {},
   "outputs": [
    {
     "data": {
      "text/plain": [
       "(array([ 99481.,  99866.,  99874., 100044.,  99976., 100653.,  99960.,\n",
       "         99902., 100220., 100024.]),\n",
       " array([ 0. ,  9.9, 19.8, 29.7, 39.6, 49.5, 59.4, 69.3, 79.2, 89.1, 99. ]),\n",
       " <BarContainer object of 10 artists>)"
      ]
     },
     "execution_count": 10,
     "metadata": {},
     "output_type": "execute_result"
    },
    {
     "data": {
      "image/png": "[encoded data removed]",
      "text/plain": [
       "<Figure size 432x288 with 1 Axes>"
      ]
     },
     "metadata": {
      "needs_background": "light"
     },
     "output_type": "display_data"
    }
   ],
   "source": [
    "# Plot the above data\n",
    "plt.hist(x)\n",
    "# This almost perfect square is an example of uniform distribution"
   ]
  },
  {
   "cell_type": "markdown",
   "id": "b2809bb1-8f74-4251-bdd0-2666a98d3e3c",
   "metadata": {},
   "source": [
    "<br>"
   ]
  },
  {
   "cell_type": "code",
   "execution_count": 12,
   "id": "39d2fe23-2b7c-4ed4-a5e7-ae01ebd25256",
   "metadata": {},
   "outputs": [],
   "source": [
    "normdist = np.random.normal(0,0.1,1000)\n",
    "# 1st number is centre point, 2nd is spread of data"
   ]
  },
  {
   "cell_type": "code",
   "execution_count": 13,
   "id": "c5d63b3f-3c85-4bef-ad21-be94496df6c5",
   "metadata": {},
   "outputs": [
    {
     "data": {
      "text/plain": [
       "(array([ 11.,  51., 142., 215., 263., 171., 106.,  29.,  10.,   2.]),\n",
       " array([-0.28570303, -0.21972045, -0.15373787, -0.0877553 , -0.02177272,\n",
       "         0.04420986,  0.11019244,  0.17617501,  0.24215759,  0.30814017,\n",
       "         0.37412274]),\n",
       " <BarContainer object of 10 artists>)"
      ]
     },
     "execution_count": 13,
     "metadata": {},
     "output_type": "execute_result"
    },
    {
     "data": {
      "image/png": "[encoded data removed]",
      "text/plain": [
       "<Figure size 432x288 with 1 Axes>"
      ]
     },
     "metadata": {
      "needs_background": "light"
     },
     "output_type": "display_data"
    }
   ],
   "source": [
    "plt.hist(normdist)"
   ]
  },
  {
   "cell_type": "code",
   "execution_count": null,
   "id": "5cf55247-a02d-4045-93f7-d933d9a52924",
   "metadata": {},
   "outputs": [],
   "source": []
  }
 ],
 "metadata": {
  "kernelspec": {
   "display_name": "Python 3",
   "language": "python",
   "name": "python3"
  },
  "language_info": {
   "codemirror_mode": {
    "name": "ipython",
    "version": 3
   },
   "file_extension": ".py",
   "mimetype": "text/x-python",
   "name": "python",
   "nbconvert_exporter": "python",
   "pygments_lexer": "ipython3",
   "version": "3.8.8"
  }
 },
 "nbformat": 4,
 "nbformat_minor": 5
}
