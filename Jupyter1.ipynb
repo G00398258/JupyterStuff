{
 "cells": [
  {
   "cell_type": "markdown",
   "id": "94d2ada0-743d-4d8e-9c23-6447f1ac9448",
   "metadata": {},
   "source": [
    "name = input(\"What's your name?\")\n",
    "print (\"Hello \" + name)"
   ]
  },
  {
   "cell_type": "markdown",
   "id": "30df7f81-b588-4798-847e-40a8e456298e",
   "metadata": {},
   "source": [
    "# This is a heading\n",
    " \n",
    "** Bold text\n",
    "\n",
    "- Bullet point 1\n",
    "- Bullet point 2\n",
    "\n",
    "![](https://cdn.europosters.eu/image/750/posters/grumpy-cat-i15528.jpg)"
   ]
  },
  {
   "cell_type": "markdown",
   "id": "5e238f79-2c8a-4d0c-881a-4ef670a88951",
   "metadata": {},
   "source": []
  }
 ],
 "metadata": {
  "kernelspec": {
   "display_name": "Python 3",
   "language": "python",
   "name": "python3"
  },
  "language_info": {
   "codemirror_mode": {
    "name": "ipython",
    "version": 3
   },
   "file_extension": ".py",
   "mimetype": "text/x-python",
   "name": "python",
   "nbconvert_exporter": "python",
   "pygments_lexer": "ipython3",
   "version": "3.8.8"
  }
 },
 "nbformat": 4,
 "nbformat_minor": 5
}
